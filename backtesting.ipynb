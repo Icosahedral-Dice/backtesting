{
 "cells": [
  {
   "cell_type": "markdown",
   "id": "f022fca1",
   "metadata": {},
   "source": [
    "# Financial Econometrics Report"
   ]
  },
  {
   "cell_type": "markdown",
   "id": "15b06188",
   "metadata": {},
   "source": [
    "## Housekeeping"
   ]
  },
  {
   "cell_type": "code",
   "execution_count": 1,
   "id": "7b117ccc",
   "metadata": {},
   "outputs": [],
   "source": [
    "from simfin.names import *\n",
    "import pandas as pd\n",
    "import numpy as np\n",
    "import seaborn as sns\n",
    "import time\n",
    "\n",
    "# Import the main functionality from the SimFin Python API.\n",
    "import simfin as sf\n",
    "import pandas_datareader.data as web\n",
    "\n",
    "api_key = 'free'\n",
    "sf.set_api_key(api_key)\n",
    "\n",
    "root = '/Users/Wanderer/Desktop/hu/Report/' # Change this when running locally\n",
    "sf.set_data_dir(root + 'simfin_data/')\n",
    "        \n",
    "pd.set_option('display.max_columns', None)"
   ]
  },
  {
   "cell_type": "markdown",
   "id": "c253ddb5",
   "metadata": {},
   "source": [
    "## Load Data"
   ]
  },
  {
   "cell_type": "code",
   "execution_count": 3,
   "id": "6c287cdb",
   "metadata": {},
   "outputs": [],
   "source": [
    "def timecheck(price):\n",
    "    '''\n",
    "    Input: (DataFrame) data of one ticker only.\n",
    "    Output: (Boolean) True only if data begin earlier than 2018-01-01 and end later than 2019-12-31.\n",
    "    '''\n",
    "    precheck = (price.index[0] <= pd.to_datetime('2018-01-01',format = '%Y-%m-%d'))\n",
    "    postcheck = (price.index[0] <= pd.to_datetime('2018-01-01',format = '%Y-%m-%d'))\n",
    "    check = precheck & postcheck\n",
    "    return check\n",
    "\n",
    "def tickerfilter(prices, name):\n",
    "    '''\n",
    "    Input1: (DataFrame) Data of multple tickers.\n",
    "    Input2: (str) name of the indicator.\n",
    "    Output: Writes pickle: filtered Input1\n",
    "    '''\n",
    "    good = sf.apply(df = prices, func = timecheck)\n",
    "    good = good[good]\n",
    "    good = list(good.index)\n",
    "    writedata = prices.loc[good]\n",
    "    writedata.to_pickle(root + 'good' + str(name) + '.pkl')\n",
    "    print(name + ' saved!')\n",
    "    return 0\n",
    "\n",
    "def reloaddata():\n",
    "    '''\n",
    "    Loads data from SimFin.com or from local disk.\n",
    "    Writes pickle\n",
    "    '''\n",
    "    incomes = sf.load(dataset = 'income', variant = 'ttm', market = 'us',\n",
    "                index = [TICKER, REPORT_DATE],\n",
    "                parse_dates = [REPORT_DATE, PUBLISH_DATE, RESTATED_DATE])\n",
    "    balances = sf.load(dataset = 'balance', variant = 'ttm', market = 'us',\n",
    "                      index = [TICKER, REPORT_DATE],\n",
    "                      parse_dates = [REPORT_DATE, PUBLISH_DATE, RESTATED_DATE])\n",
    "    cashflows = sf.load(dataset = 'cashflow', variant = 'ttm', market = 'us',\n",
    "                       index = [TICKER, REPORT_DATE],\n",
    "                       parse_dates = [REPORT_DATE, PUBLISH_DATE, RESTATED_DATE])\n",
    "\n",
    "    prices = sf.load_shareprices(variant = 'daily', market = 'us')\n",
    "    \n",
    "    tickerfilter(prices, 'prices')\n",
    "    tickerfilter(incomes, 'incomes')\n",
    "    tickerfilter(balances, 'balances')\n",
    "    tickerfilter(cashflows, 'cashflows')\n",
    "    \n",
    "##================================##\n",
    "# Last refresh on **20210613**\n",
    "# Set to True on a new device / when data is too old.\n",
    "if False:\n",
    "    reloaddata()\n",
    "##================================##"
   ]
  },
  {
   "cell_type": "markdown",
   "id": "f856eead",
   "metadata": {},
   "source": [
    "## Functions"
   ]
  },
  {
   "cell_type": "markdown",
   "id": "25b9960d",
   "metadata": {},
   "source": [
    "### Backtesting"
   ]
  },
  {
   "cell_type": "code",
   "execution_count": 10,
   "id": "19969659",
   "metadata": {},
   "outputs": [],
   "source": [
    "def topandbottom(df, text, prices):\n",
    "    bracket = 100\n",
    "    winner = df[-bracket:]\n",
    "    loser = df[:bracket]\n",
    "    pricefilled = sf.asfreq(df = prices, freq = 'D', method = 'ffill')\n",
    "    badstock = []\n",
    "    for stock in winner.index:\n",
    "        try:\n",
    "            winner.loc[stock,'annualret'] = pricefilled.loc[(stock,'2019-12-31')]['Adj. Close'] / pricefilled.loc[(stock,'2019-01-01')]['Adj. Close'] - 1\n",
    "        except:\n",
    "            badstock.append(stock)\n",
    "    for stock in loser.index:\n",
    "        try:\n",
    "            loser.loc[stock,'annualret'] = pricefilled.loc[(stock,'2019-12-31')]['Adj. Close'] / pricefilled.loc[(stock,'2019-01-01')]['Adj. Close'] - 1\n",
    "        except:\n",
    "            badstock.append(stock)\n",
    "    winner_yield = winner['annualret'].mean()\n",
    "    loser_yield = loser['annualret'].mean()\n",
    "    \n",
    "    # print(badstock) # Un-comment if you need to see which stocks are problematic.\n",
    "    \n",
    "    print('According to {}, \\nthe top 100 stocks yield annually {:.4f};\\nthe bottom 100 stocks yield annually {:.4f}'.format(text,winner_yield,loser_yield))\n",
    "    return 0\n",
    "\n",
    "def bt_prices(func, text):\n",
    "    '''\n",
    "    func: (Function) A function whose input is the price data for one ticker only.\n",
    "    name: (str) Name of the factor\n",
    "    prices: \n",
    "    '''\n",
    "    prices = pd.read_pickle('goodprices.pkl')\n",
    "    factors = sf.apply(df = prices, func = func)\n",
    "    factor = factors.groupby(['Ticker'])[factors.columns[-1]].mean().sort_values().dropna()\n",
    "    factor = pd.DataFrame(factor)\n",
    "    \n",
    "    topandbottom(factor, text, prices)"
   ]
  },
  {
   "cell_type": "markdown",
   "id": "593fccfc",
   "metadata": {},
   "source": [
    "### Factors\n",
    "Use bt_prices to backtest price-related factors.  \n",
    "Use bt_volumes to backtest volume-related factors."
   ]
  },
  {
   "cell_type": "code",
   "execution_count": 16,
   "id": "9a8dfed5",
   "metadata": {},
   "outputs": [
    {
     "name": "stderr",
     "output_type": "stream",
     "text": [
      "/opt/anaconda3/lib/python3.8/site-packages/pandas/core/indexing.py:1599: SettingWithCopyWarning: \n",
      "A value is trying to be set on a copy of a slice from a DataFrame.\n",
      "Try using .loc[row_indexer,col_indexer] = value instead\n",
      "\n",
      "See the caveats in the documentation: https://pandas.pydata.org/pandas-docs/stable/user_guide/indexing.html#returning-a-view-versus-a-copy\n",
      "  self.obj[key] = infer_fill_value(value)\n",
      "/opt/anaconda3/lib/python3.8/site-packages/pandas/core/indexing.py:1720: SettingWithCopyWarning: \n",
      "A value is trying to be set on a copy of a slice from a DataFrame.\n",
      "Try using .loc[row_indexer,col_indexer] = value instead\n",
      "\n",
      "See the caveats in the documentation: https://pandas.pydata.org/pandas-docs/stable/user_guide/indexing.html#returning-a-view-versus-a-copy\n",
      "  self._setitem_single_column(loc, value, pi)\n"
     ]
    },
    {
     "name": "stdout",
     "output_type": "stream",
     "text": [
      "According to Long-term Reversal: Debondt and Thaler (JF 1985), \n",
      "the top 100 stocks yield annually 0.2859;\n",
      "the bottom 100 stocks yield annually 0.1144\n"
     ]
    }
   ],
   "source": [
    "def longreversal(prices):\n",
    "    '''\n",
    "    Long-term Reversal\n",
    "    Debondt and Thaler (JF 1985)\n",
    "    '''\n",
    "    longrev = sf.asfreq(df = prices, freq = 'D', method = 'ffill')\n",
    "    longrev['longreversal'] = longrev['Adj. Close'].pct_change(1410).shift(390)\n",
    "    longrev = longrev['longreversal']\n",
    "    prices = pd.concat([prices, longrev], axis = 1, join = 'inner')\n",
    "    return prices\n",
    "\n",
    "bt_prices(longreversal, 'Long-term Reversal: Debondt and Thaler (JF 1985)')"
   ]
  },
  {
   "cell_type": "code",
   "execution_count": 15,
   "id": "0be00870",
   "metadata": {},
   "outputs": [
    {
     "name": "stderr",
     "output_type": "stream",
     "text": [
      "/opt/anaconda3/lib/python3.8/site-packages/pandas/core/indexing.py:1599: SettingWithCopyWarning: \n",
      "A value is trying to be set on a copy of a slice from a DataFrame.\n",
      "Try using .loc[row_indexer,col_indexer] = value instead\n",
      "\n",
      "See the caveats in the documentation: https://pandas.pydata.org/pandas-docs/stable/user_guide/indexing.html#returning-a-view-versus-a-copy\n",
      "  self.obj[key] = infer_fill_value(value)\n",
      "/opt/anaconda3/lib/python3.8/site-packages/pandas/core/indexing.py:1720: SettingWithCopyWarning: \n",
      "A value is trying to be set on a copy of a slice from a DataFrame.\n",
      "Try using .loc[row_indexer,col_indexer] = value instead\n",
      "\n",
      "See the caveats in the documentation: https://pandas.pydata.org/pandas-docs/stable/user_guide/indexing.html#returning-a-view-versus-a-copy\n",
      "  self._setitem_single_column(loc, value, pi)\n"
     ]
    },
    {
     "name": "stdout",
     "output_type": "stream",
     "text": [
      "According to Share volume, \n",
      "the top 100 stocks yield annually 0.3552;\n",
      "the bottom 100 stocks yield annually 1.4807\n"
     ]
    }
   ],
   "source": [
    "def Share_Volume(volume):\n",
    "    volume = volume.resample('M').mean()\n",
    "    volume['Share_Volume'] = volume['Volume'].rolling(window=3).mean()\n",
    "    return volume\n",
    "\n",
    "bt_prices(Share_Volume, 'Share volume')"
   ]
  }
 ],
 "metadata": {
  "kernelspec": {
   "display_name": "Python 3",
   "language": "python",
   "name": "python3"
  },
  "language_info": {
   "codemirror_mode": {
    "name": "ipython",
    "version": 3
   },
   "file_extension": ".py",
   "mimetype": "text/x-python",
   "name": "python",
   "nbconvert_exporter": "python",
   "pygments_lexer": "ipython3",
   "version": "3.8.5"
  }
 },
 "nbformat": 4,
 "nbformat_minor": 5
}
